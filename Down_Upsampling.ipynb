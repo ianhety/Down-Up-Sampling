{
 "cells": [
  {
   "cell_type": "code",
   "execution_count": 13,
   "metadata": {
    "collapsed": false
   },
   "outputs": [
    {
     "name": "stdout",
     "output_type": "stream",
     "text": [
      "C:/Users/310249682/Documents/data.xlsx\n"
     ]
    }
   ],
   "source": [
    "#import the following modules\n",
    "import numpy as np\n",
    "import Tkinter, Tkconstants, tkFileDialog\n",
    "import warnings\n",
    "import pandas as pd\n",
    "\n",
    "from easygui import *\n",
    "from imblearn.over_sampling import SMOTE\n",
    "from Tkinter import *\n",
    "from sklearn import preprocessing\n",
    "from sklearn.preprocessing import Imputer\n",
    "le = preprocessing.LabelEncoder()\n",
    "\n",
    "#Use Tkinter to choose the file directory and save the local address as filepath\n",
    "Tk().withdraw()\n",
    "filepath = tkFileDialog.askopenfilename(initialdir = \"/\",title = \"Select file\",filetypes = ((\"csv files\",\"xlsx files\"),(\"all files\",\"*.*\")))"
   ]
  },
  {
   "cell_type": "code",
   "execution_count": 31,
   "metadata": {
    "collapsed": true
   },
   "outputs": [],
   "source": [
    "#Class to do propressing of the original data\n",
    "class propressing:\n",
    "    def __init__(self,data):\n",
    "        self.data = data\n",
    "        #delete useless features/variables from the data\n",
    "        self.deductions( self.data )\n",
    "        #transfer the * sign to NaN, in order to do the transform correctly\n",
    "        self.data['Age'] = self.data['Age'].replace('*',np.nan)\n",
    "        #data transform process.\n",
    "        #If the feature is unicode, then transformed to 0,1,2,.... and replace the NaN with a new category.\n",
    "        #If the feature is float/int, then replace the NaN as the mean value.\n",
    "        for i in self.data.columns:\n",
    "            for k in self.data[i][pd.notnull(self.data[i])]:\n",
    "                ddtype = type(k)\n",
    "                break\n",
    "            if ddtype is unicode:\n",
    "                le.fit( self.data[i] )\n",
    "                self.data[i] = le.transform( self.data[i] )\n",
    "            else:\n",
    "                imp = Imputer(missing_values='NaN', strategy='mean',axis = 1)\n",
    "                imp.fit(self.data[i])\n",
    "                self.data[i] = imp.transform( self.data[i] )[0]\n",
    "        #The outcome has four values:NaN-0,Alive-1,Dead-2,Unknow-3.We only select Alive and Dead Group.\n",
    "        out_alive = self.data[self.data['OUTCOME'] == 1]\n",
    "        out_dead = self.data[self.data['OUTCOME'] == 2]\n",
    "        data_new = pd.concat([out_alive,out_dead])\n",
    "        #Predictors name with deleting the OUTCOME feature.\n",
    "        predictors = self.data.columns\n",
    "        predictors = list(predictors)\n",
    "        del predictors[32] \n",
    "        #Final data\n",
    "        self.datapd = data_new\n",
    "    \n",
    "    def deductions( self,data ):\n",
    "        #Delete the Time/Date-related features.\n",
    "        del self.data['Day of Week']\n",
    "        del self.data['Procedure Year']\n",
    "        del self.data['Procedure Quarter of year']\n",
    "        del self.data['Procedure Month']\n",
    "        del self.data['Procedure MonthNumber']\n",
    "        del self.data['Procedure Week of year']\n",
    "        del self.data['Procedure Day of Month']\n",
    "        #Delete the features with large number of NaN values. Mostly missing over 20000 of 30000.\n",
    "        del self.data['HISTORY_HYPERTENSION']\n",
    "        del self.data['TOTAL_CHOLESTEROL']\n",
    "        del self.data['CATH EVENTS']\n",
    "        del self.data['EJECTION_FRACTION']\n",
    "        del self.data['WEIGHT']\n",
    "        del self.data['HEIGHT']\n",
    "        del self.data['HEART_RATE']\n",
    "        del self.data['Euroscore']\n",
    "        del self.data['CLINICAL_SYNDROME']\n",
    "        del self.data['Indication for intervention']\n",
    "        del self.data['Presenting ECG']\n",
    "        del self.data['Thrombolysis']\n",
    "        del self.data['COMPLICATION']\n",
    "        del self.data['Replacement Device?']\n",
    "        del self.data['Replacement Reason']\n",
    "        del self.data['Device type']\n",
    "        del self.data['Device type.1']\n",
    "        del self.data['Indication for stent']\n",
    "        del self.data['LMS Protected']\n",
    "        del self.data['LENGTH_STAY_PROC_TO_DISCH']\n",
    "        del self.data['Patient_DB_ID']\n",
    "        del self.data['Procedure_Unique_Identifier']\n"
   ]
  },
  {
   "cell_type": "code",
   "execution_count": 32,
   "metadata": {
    "collapsed": true
   },
   "outputs": [
    {
     "name": "stderr",
     "output_type": "stream",
     "text": [
      "C:\\Ipython\\Anaconda2\\lib\\site-packages\\sklearn\\utils\\validation.py:386: DeprecationWarning: Passing 1d arrays as data is deprecated in 0.17 and willraise ValueError in 0.19. Reshape your data either using X.reshape(-1, 1) if your data has a single feature or X.reshape(1, -1) if it contains a single sample.\n",
      "  DeprecationWarning)\n",
      "C:\\Ipython\\Anaconda2\\lib\\site-packages\\sklearn\\utils\\validation.py:386: DeprecationWarning: Passing 1d arrays as data is deprecated in 0.17 and willraise ValueError in 0.19. Reshape your data either using X.reshape(-1, 1) if your data has a single feature or X.reshape(1, -1) if it contains a single sample.\n",
      "  DeprecationWarning)\n",
      "C:\\Ipython\\Anaconda2\\lib\\site-packages\\sklearn\\utils\\validation.py:386: DeprecationWarning: Passing 1d arrays as data is deprecated in 0.17 and willraise ValueError in 0.19. Reshape your data either using X.reshape(-1, 1) if your data has a single feature or X.reshape(1, -1) if it contains a single sample.\n",
      "  DeprecationWarning)\n",
      "C:\\Ipython\\Anaconda2\\lib\\site-packages\\sklearn\\utils\\validation.py:386: DeprecationWarning: Passing 1d arrays as data is deprecated in 0.17 and willraise ValueError in 0.19. Reshape your data either using X.reshape(-1, 1) if your data has a single feature or X.reshape(1, -1) if it contains a single sample.\n",
      "  DeprecationWarning)\n",
      "C:\\Ipython\\Anaconda2\\lib\\site-packages\\sklearn\\utils\\validation.py:386: DeprecationWarning: Passing 1d arrays as data is deprecated in 0.17 and willraise ValueError in 0.19. Reshape your data either using X.reshape(-1, 1) if your data has a single feature or X.reshape(1, -1) if it contains a single sample.\n",
      "  DeprecationWarning)\n",
      "C:\\Ipython\\Anaconda2\\lib\\site-packages\\sklearn\\utils\\validation.py:386: DeprecationWarning: Passing 1d arrays as data is deprecated in 0.17 and willraise ValueError in 0.19. Reshape your data either using X.reshape(-1, 1) if your data has a single feature or X.reshape(1, -1) if it contains a single sample.\n",
      "  DeprecationWarning)\n",
      "C:\\Ipython\\Anaconda2\\lib\\site-packages\\sklearn\\utils\\validation.py:386: DeprecationWarning: Passing 1d arrays as data is deprecated in 0.17 and willraise ValueError in 0.19. Reshape your data either using X.reshape(-1, 1) if your data has a single feature or X.reshape(1, -1) if it contains a single sample.\n",
      "  DeprecationWarning)\n",
      "C:\\Ipython\\Anaconda2\\lib\\site-packages\\sklearn\\utils\\validation.py:386: DeprecationWarning: Passing 1d arrays as data is deprecated in 0.17 and willraise ValueError in 0.19. Reshape your data either using X.reshape(-1, 1) if your data has a single feature or X.reshape(1, -1) if it contains a single sample.\n",
      "  DeprecationWarning)\n",
      "C:\\Ipython\\Anaconda2\\lib\\site-packages\\sklearn\\utils\\validation.py:386: DeprecationWarning: Passing 1d arrays as data is deprecated in 0.17 and willraise ValueError in 0.19. Reshape your data either using X.reshape(-1, 1) if your data has a single feature or X.reshape(1, -1) if it contains a single sample.\n",
      "  DeprecationWarning)\n",
      "C:\\Ipython\\Anaconda2\\lib\\site-packages\\sklearn\\utils\\validation.py:386: DeprecationWarning: Passing 1d arrays as data is deprecated in 0.17 and willraise ValueError in 0.19. Reshape your data either using X.reshape(-1, 1) if your data has a single feature or X.reshape(1, -1) if it contains a single sample.\n",
      "  DeprecationWarning)\n",
      "C:\\Ipython\\Anaconda2\\lib\\site-packages\\sklearn\\utils\\validation.py:386: DeprecationWarning: Passing 1d arrays as data is deprecated in 0.17 and willraise ValueError in 0.19. Reshape your data either using X.reshape(-1, 1) if your data has a single feature or X.reshape(1, -1) if it contains a single sample.\n",
      "  DeprecationWarning)\n",
      "C:\\Ipython\\Anaconda2\\lib\\site-packages\\sklearn\\utils\\validation.py:386: DeprecationWarning: Passing 1d arrays as data is deprecated in 0.17 and willraise ValueError in 0.19. Reshape your data either using X.reshape(-1, 1) if your data has a single feature or X.reshape(1, -1) if it contains a single sample.\n",
      "  DeprecationWarning)\n",
      "C:\\Ipython\\Anaconda2\\lib\\site-packages\\sklearn\\utils\\validation.py:386: DeprecationWarning: Passing 1d arrays as data is deprecated in 0.17 and willraise ValueError in 0.19. Reshape your data either using X.reshape(-1, 1) if your data has a single feature or X.reshape(1, -1) if it contains a single sample.\n",
      "  DeprecationWarning)\n",
      "C:\\Ipython\\Anaconda2\\lib\\site-packages\\sklearn\\utils\\validation.py:386: DeprecationWarning: Passing 1d arrays as data is deprecated in 0.17 and willraise ValueError in 0.19. Reshape your data either using X.reshape(-1, 1) if your data has a single feature or X.reshape(1, -1) if it contains a single sample.\n",
      "  DeprecationWarning)\n"
     ]
    }
   ],
   "source": [
    "#Ignore the warning message\n",
    "warnings.filterwarnings('ignore')\n",
    "#Read our original data\n",
    "doc = pd.read_excel(filepath)\n",
    "#Save the data after propressing step.\n",
    "new_doc = propressing(doc).data"
   ]
  },
  {
   "cell_type": "code",
   "execution_count": 5,
   "metadata": {
    "collapsed": false,
    "scrolled": false
   },
   "outputs": [],
   "source": [
    "#Tkinter: Select the method to balance the data.\n",
    "msg =\"Choose the methods to resample the unbalanced data\"\n",
    "title = \"Methods\"\n",
    "choices = [\"Under/Oversampling\", \"SMOTE Algorithm\",\"Close\"]\n",
    "choice = buttonbox(msg, title, choices)"
   ]
  },
  {
   "cell_type": "code",
   "execution_count": 6,
   "metadata": {
    "collapsed": false
   },
   "outputs": [],
   "source": [
    "class do_balance:\n",
    "    def __init__(self,method,data):\n",
    "        self.method = method\n",
    "        self.data = data\n",
    "        if self.method == 'Under/Oversampling':\n",
    "            self.databal = self.uo(self.data)\n",
    "        elif self.method == 'SMOTE Algorithm':\n",
    "            self.databal = self.smote(self.data)\n",
    "        elif self.method == 'Close':\n",
    "            self.data = self.data\n",
    "            print 'The process ends. No data is changed.'\n",
    "            \n",
    "    def uo( self,data):\n",
    "        #Under/Oversampling method. we enlarge the sample of dead and reduce the sample of alive.\n",
    "        out_alive = self.data[self.data['OUTCOME'] == 1]\n",
    "        out_dead = self.data[self.data['OUTCOME'] == 2]\n",
    "        out_dead_new = pd.concat([out_dead]*5)\n",
    "        out_alive_new = out_alive[0:1265]\n",
    "        self.data = pd.concat([out_alive_new,out_dead_new])\n",
    "        \n",
    "    def smote( self,data ):\n",
    "        #SMOTE Method\n",
    "        newdata = pd.concat([self.data[self.data['OUTCOME'] ==1],self.data[self.data['OUTCOME'] ==2]])\n",
    "        y_train = newdata['OUTCOME']\n",
    "        predictors = self.data.columns\n",
    "        for i in predictors:\n",
    "            if i == 'OUTCOME':\n",
    "                predictors.drop([i])\n",
    "        x_train = newdata[predictors]\n",
    "        sm = SMOTE(kind='regular')\n",
    "        x_resampled, y_resampled = sm.fit_sample(x_train, y_train)\n",
    "        x_resampled = pd.DataFrame(x_resampled)\n",
    "        x_resampled.columns = predictors\n",
    "        y_resampled = pd.DataFrame(y_resampled)\n",
    "        y_resampled.columns = ['OUTCOME']\n",
    "        self.data = pd.concat([x_resampled,y_resampled],axis = 1)"
   ]
  },
  {
   "cell_type": "code",
   "execution_count": 7,
   "metadata": {
    "collapsed": false
   },
   "outputs": [],
   "source": [
    "#save balanced data as docc\n",
    "docc = do_balance(choice,doc).data"
   ]
  },
  {
   "cell_type": "code",
   "execution_count": 44,
   "metadata": {
    "collapsed": false
   },
   "outputs": [],
   "source": [
    "#Tkinter: To choose the local address to save the file\n",
    "Tk().withdraw()\n",
    "savepath = tkFileDialog.asksaveasfilename(defaultextension='.xlsx',initialdir = '/' ,title = \"select local address to save file\",filetypes = (('csv files','xlsx files'),('all files','*.*')))"
   ]
  },
  {
   "cell_type": "code",
   "execution_count": 163,
   "metadata": {
    "collapsed": false
   },
   "outputs": [],
   "source": [
    "#Save file \n",
    "writer = pd.ExcelWriter(savepath)\n",
    "docc.to_excel(writer, sheet_name='Sheet1')\n",
    "writer.save()"
   ]
  }
 ],
 "metadata": {
  "kernelspec": {
   "display_name": "Python 2",
   "language": "python",
   "name": "python2"
  },
  "language_info": {
   "codemirror_mode": {
    "name": "ipython",
    "version": 2
   },
   "file_extension": ".py",
   "mimetype": "text/x-python",
   "name": "python",
   "nbconvert_exporter": "python",
   "pygments_lexer": "ipython2",
   "version": "2.7.11"
  }
 },
 "nbformat": 4,
 "nbformat_minor": 0
}
